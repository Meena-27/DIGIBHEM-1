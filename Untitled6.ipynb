{
  "nbformat": 4,
  "nbformat_minor": 0,
  "metadata": {
    "colab": {
      "provenance": [],
      "authorship_tag": "ABX9TyPNrMZo1mQWfsjKZPgpPqhG",
      "include_colab_link": true
    },
    "kernelspec": {
      "name": "python3",
      "display_name": "Python 3"
    },
    "language_info": {
      "name": "python"
    }
  },
  "cells": [
    {
      "cell_type": "markdown",
      "metadata": {
        "id": "view-in-github",
        "colab_type": "text"
      },
      "source": [
        "<a href=\"https://colab.research.google.com/github/Meena-27/DIGIBHEM-1/blob/main/Untitled6.ipynb\" target=\"_parent\"><img src=\"https://colab.research.google.com/assets/colab-badge.svg\" alt=\"Open In Colab\"/></a>"
      ]
    },
    {
      "cell_type": "code",
      "execution_count": 1,
      "metadata": {
        "colab": {
          "base_uri": "https://localhost:8080/"
        },
        "id": "6qfBXrgj77_9",
        "outputId": "afd6bbe2-c4a1-4722-dceb-9ae3ec3fda67"
      },
      "outputs": [
        {
          "output_type": "stream",
          "name": "stdout",
          "text": [
            "Enter your weight in kilograms: 55\n",
            "Enter your height in meters: 1.615\n",
            "Your BMI is: 21.09\n",
            "Category: Normal weight\n"
          ]
        }
      ],
      "source": [
        "def calculate_bmi(weight, height):\n",
        "    return weight / (height ** 2)\n",
        "\n",
        "def classify_bmi(bmi):\n",
        "    if bmi < 18.5:\n",
        "        return \"Underweight\"\n",
        "    elif 18.5 <= bmi < 25:\n",
        "        return \"Normal weight\"\n",
        "    elif 25 <= bmi < 30:\n",
        "        return \"Overweight\"\n",
        "    else:\n",
        "        return \"Obese\"\n",
        "\n",
        "def main():\n",
        "    try:\n",
        "        weight = float(input(\"Enter your weight in kilograms: \"))\n",
        "        height = float(input(\"Enter your height in meters: \"))\n",
        "\n",
        "        if weight <= 0 or height <= 0:\n",
        "            print(\"Error: Weight and height must be positive numbers.\")\n",
        "        else:\n",
        "            bmi = calculate_bmi(weight, height)\n",
        "            category = classify_bmi(bmi)\n",
        "            print(f\"Your BMI is: {bmi:.2f}\")\n",
        "            print(f\"Category: {category}\")\n",
        "    except ValueError:\n",
        "        print(\"Error: Please enter valid numerical values for weight and height.\")\n",
        "\n",
        "if __name__ == \"__main__\":\n",
        "    main()\n"
      ]
    }
  ]
}